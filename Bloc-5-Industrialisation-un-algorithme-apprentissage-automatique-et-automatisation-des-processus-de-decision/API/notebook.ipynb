{
 "cells": [
  {
   "cell_type": "code",
   "execution_count": 66,
   "metadata": {},
   "outputs": [
    {
     "data": {
      "text/plain": [
       "500"
      ]
     },
     "execution_count": 66,
     "metadata": {},
     "output_type": "execute_result"
    }
   ],
   "source": [
    "import requests\n",
    "\n",
    "response = requests.post(\"https://my-api-for-mlflow.herokuapp.com//predict\", json={\n",
    "    'model_key': \"Citroën\", 'mileage': 140411, 'engine_power': 100, 'fuel': \"diesel\", 'paint_color': \"black\",'car_type': \"convertible\", 'private_parking_available': True, 'has_gps': True,'has_air_conditioning': False, 'automatic_car': False, 'has_getaround_connect': True,'has_speed_regulator': True, 'winter_tires': True\n",
    "})\n",
    "response.status_code"
   ]
  },
  {
   "cell_type": "code",
   "execution_count": 68,
   "metadata": {},
   "outputs": [
    {
     "name": "stdout",
     "output_type": "stream",
     "text": [
      "{'prediction': 120.84566270845197}\n"
     ]
    }
   ],
   "source": [
    "import requests\n",
    "\n",
    "response = requests.post(\"http://localhost:4000/predict\", json={\n",
    "    'model_key': \"Citroën\", 'mileage': 140411, 'engine_power': 100, 'fuel': \"diesel\", 'paint_color': \"black\",'car_type': \"convertible\", 'private_parking_available': True, 'has_gps': True,'has_air_conditioning': False, 'automatic_car': False, 'has_getaround_connect': True,'has_speed_regulator': True, 'winter_tires': True\n",
    "})\n",
    "print(response.json())"
   ]
  },
  {
   "cell_type": "code",
   "execution_count": 67,
   "metadata": {},
   "outputs": [
    {
     "name": "stdout",
     "output_type": "stream",
     "text": [
      "Hello this is my test API. If you want to learn more, check out documentation of the api at `/docs`\n"
     ]
    }
   ],
   "source": [
    "import requests\n",
    "\n",
    "response = requests.get(\"http://localhost:4000/\")\n",
    "print(response.json())"
   ]
  },
  {
   "cell_type": "code",
   "execution_count": 60,
   "metadata": {},
   "outputs": [
    {
     "name": "stdout",
     "output_type": "stream",
     "text": [
      "Hello this is my test API. If you want to learn more, check out documentation of the api at `/docs`\n"
     ]
    }
   ],
   "source": [
    "import requests\n",
    "\n",
    "response = requests.get(\"https://my-api-for-mlflow.herokuapp.com//\")\n",
    "\n",
    "print(response.json())"
   ]
  },
  {
   "cell_type": "code",
   "execution_count": 63,
   "metadata": {},
   "outputs": [
    {
     "data": {
      "text/plain": [
       "500"
      ]
     },
     "execution_count": 63,
     "metadata": {},
     "output_type": "execute_result"
    }
   ],
   "source": [
    "import requests\n",
    "\n",
    "response = requests.post(\"https://jedha-fast-api-demo.herokuapp.com/predict\", json={\n",
    "  \"YearsExperience\": 50\n",
    "})\n",
    "response.status_code"
   ]
  },
  {
   "cell_type": "markdown",
   "metadata": {},
   "source": []
  }
 ],
 "metadata": {
  "interpreter": {
   "hash": "5a55ff060dca2f919002028c6c65853c885111584988b328db325f9c1cd9b339"
  },
  "kernelspec": {
   "display_name": "Python 3.8.12 ('base')",
   "language": "python",
   "name": "python3"
  },
  "language_info": {
   "codemirror_mode": {
    "name": "ipython",
    "version": 3
   },
   "file_extension": ".py",
   "mimetype": "text/x-python",
   "name": "python",
   "nbconvert_exporter": "python",
   "pygments_lexer": "ipython3",
   "version": "3.8.12"
  },
  "orig_nbformat": 4
 },
 "nbformat": 4,
 "nbformat_minor": 2
}
