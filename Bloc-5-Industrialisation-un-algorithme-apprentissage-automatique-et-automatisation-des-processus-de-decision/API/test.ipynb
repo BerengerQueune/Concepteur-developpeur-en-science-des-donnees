{
 "cells": [
  {
   "cell_type": "code",
   "execution_count": 17,
   "metadata": {},
   "outputs": [
    {
     "name": "stdout",
     "output_type": "stream",
     "text": [
      "{'prediction': 264.75950291178606}\n"
     ]
    }
   ],
   "source": [
    "import requests\n",
    "\n",
    "response = requests.post(\"https://get-api-11.herokuapp.com/predict\", json={\n",
    "    'model_key': \"Citroën\", 'mileage': 140411, 'engine_power': 500, 'fuel': \"diesel\", 'paint_color': \"black\",'car_type': \"convertible\", 'private_parking_available': True, 'has_gps': True,'has_air_conditioning': False, 'automatic_car': False, 'has_getaround_connect': True,'has_speed_regulator': True, 'winter_tires': True\n",
    "})\n",
    "\n",
    "print(response.json())"
   ]
  },
  {
   "cell_type": "code",
   "execution_count": 13,
   "metadata": {},
   "outputs": [
    {
     "name": "stdout",
     "output_type": "stream",
     "text": [
      "{'prediction': 228.78104286095248}\n"
     ]
    }
   ],
   "source": [
    "import requests\n",
    "\n",
    "response = requests.post(\"http://localhost:4000/predict\", json={\n",
    "    'model_key': \"Citroën\", 'mileage': 140411, 'engine_power': 400, 'fuel': \"diesel\", 'paint_color': \"black\",'car_type': \"convertible\", 'private_parking_available': True, 'has_gps': True,'has_air_conditioning': False, 'automatic_car': False, 'has_getaround_connect': True,'has_speed_regulator': True, 'winter_tires': True\n",
    "})\n",
    "print(response.json())"
   ]
  },
  {
   "cell_type": "code",
   "execution_count": 14,
   "metadata": {},
   "outputs": [
    {
     "name": "stdout",
     "output_type": "stream",
     "text": [
      "Hello this is my test API. If you want to learn more, check out documentation of the api at `/docs`\n"
     ]
    }
   ],
   "source": [
    "import requests\n",
    "\n",
    "response = requests.get(\"http://localhost:4000/\")\n",
    "print(response.json())"
   ]
  },
  {
   "cell_type": "code",
   "execution_count": 15,
   "metadata": {},
   "outputs": [
    {
     "name": "stdout",
     "output_type": "stream",
     "text": [
      "Hello this is my test API. If you want to learn more, check out documentation of the api at `/docs`\n"
     ]
    }
   ],
   "source": [
    "import requests\n",
    "\n",
    "response = requests.get(\"https://get-api-11.herokuapp.com/\")\n",
    "\n",
    "print(response.json())"
   ]
  }
 ],
 "metadata": {
  "interpreter": {
   "hash": "5a55ff060dca2f919002028c6c65853c885111584988b328db325f9c1cd9b339"
  },
  "kernelspec": {
   "display_name": "Python 3.8.12 ('base')",
   "language": "python",
   "name": "python3"
  },
  "language_info": {
   "codemirror_mode": {
    "name": "ipython",
    "version": 3
   },
   "file_extension": ".py",
   "mimetype": "text/x-python",
   "name": "python",
   "nbconvert_exporter": "python",
   "pygments_lexer": "ipython3",
   "version": "3.8.12"
  },
  "orig_nbformat": 4
 },
 "nbformat": 4,
 "nbformat_minor": 2
}
