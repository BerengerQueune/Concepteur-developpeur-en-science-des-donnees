{
 "cells": [
  {
   "cell_type": "code",
   "execution_count": 1,
   "metadata": {},
   "outputs": [],
   "source": [
    "import pandas as pd\n",
    "import plotly.express as px\n",
    "import plotly.graph_objects as go\n",
    "import numpy as np\n",
    "\n",
    "import spacy\n",
    "nlp = spacy.load('en_core_web_sm')\n",
    "from spacy.lang.en.stop_words import STOP_WORDS\n",
    "\n",
    "import tensorflow as tf\n",
    "\n",
    "from tensorflow.keras.models import Sequential\n",
    "from tensorflow.keras.layers import Embedding, LSTM, Dense, Bidirectional, Dropout, SimpleRNN, GRU\n",
    "from tensorflow.keras.optimizers import Adam\n",
    "\n",
    "from tensorflow.keras.preprocessing.text import Tokenizer\n",
    "from tensorflow.keras.preprocessing.sequence import pad_sequences\n",
    "\n",
    "from tensorflow.keras.callbacks import ModelCheckpoint\n",
    "\n",
    "from termcolor import colored\n",
    "\n",
    "from sklearn.model_selection import train_test_split"
   ]
  },
  {
   "cell_type": "code",
   "execution_count": 2,
   "metadata": {},
   "outputs": [
    {
     "data": {
      "text/html": [
       "<div>\n",
       "<style scoped>\n",
       "    .dataframe tbody tr th:only-of-type {\n",
       "        vertical-align: middle;\n",
       "    }\n",
       "\n",
       "    .dataframe tbody tr th {\n",
       "        vertical-align: top;\n",
       "    }\n",
       "\n",
       "    .dataframe thead th {\n",
       "        text-align: right;\n",
       "    }\n",
       "</style>\n",
       "<table border=\"1\" class=\"dataframe\">\n",
       "  <thead>\n",
       "    <tr style=\"text-align: right;\">\n",
       "      <th></th>\n",
       "      <th>id</th>\n",
       "      <th>keyword</th>\n",
       "      <th>location</th>\n",
       "      <th>text</th>\n",
       "      <th>target</th>\n",
       "    </tr>\n",
       "  </thead>\n",
       "  <tbody>\n",
       "    <tr>\n",
       "      <th>0</th>\n",
       "      <td>1</td>\n",
       "      <td>NaN</td>\n",
       "      <td>NaN</td>\n",
       "      <td>Our Deeds are the Reason of this #earthquake M...</td>\n",
       "      <td>1</td>\n",
       "    </tr>\n",
       "    <tr>\n",
       "      <th>1</th>\n",
       "      <td>4</td>\n",
       "      <td>NaN</td>\n",
       "      <td>NaN</td>\n",
       "      <td>Forest fire near La Ronge Sask. Canada</td>\n",
       "      <td>1</td>\n",
       "    </tr>\n",
       "    <tr>\n",
       "      <th>2</th>\n",
       "      <td>5</td>\n",
       "      <td>NaN</td>\n",
       "      <td>NaN</td>\n",
       "      <td>All residents asked to 'shelter in place' are ...</td>\n",
       "      <td>1</td>\n",
       "    </tr>\n",
       "    <tr>\n",
       "      <th>3</th>\n",
       "      <td>6</td>\n",
       "      <td>NaN</td>\n",
       "      <td>NaN</td>\n",
       "      <td>13,000 people receive #wildfires evacuation or...</td>\n",
       "      <td>1</td>\n",
       "    </tr>\n",
       "    <tr>\n",
       "      <th>4</th>\n",
       "      <td>7</td>\n",
       "      <td>NaN</td>\n",
       "      <td>NaN</td>\n",
       "      <td>Just got sent this photo from Ruby #Alaska as ...</td>\n",
       "      <td>1</td>\n",
       "    </tr>\n",
       "  </tbody>\n",
       "</table>\n",
       "</div>"
      ],
      "text/plain": [
       "   id keyword location                                               text  \\\n",
       "0   1     NaN      NaN  Our Deeds are the Reason of this #earthquake M...   \n",
       "1   4     NaN      NaN             Forest fire near La Ronge Sask. Canada   \n",
       "2   5     NaN      NaN  All residents asked to 'shelter in place' are ...   \n",
       "3   6     NaN      NaN  13,000 people receive #wildfires evacuation or...   \n",
       "4   7     NaN      NaN  Just got sent this photo from Ruby #Alaska as ...   \n",
       "\n",
       "   target  \n",
       "0       1  \n",
       "1       1  \n",
       "2       1  \n",
       "3       1  \n",
       "4       1  "
      ]
     },
     "metadata": {},
     "output_type": "display_data"
    },
    {
     "name": "stdout",
     "output_type": "stream",
     "text": [
      "(7613, 5)\n"
     ]
    }
   ],
   "source": [
    "# Dataset named \"tweet\" will be used to train and evaluate the model\n",
    "tweet = pd.read_csv('train.csv')\n",
    "\n",
    "# Dataset named \"test_tweet\" will be used to make submission to the Kaggle platform\n",
    "test_tweet = pd.read_csv('test.csv')\n",
    "\n",
    "display (tweet.head())\n",
    "print (tweet.shape)"
   ]
  },
  {
   "cell_type": "code",
   "execution_count": 3,
   "metadata": {},
   "outputs": [
    {
     "data": {
      "text/plain": [
       "id             0\n",
       "keyword       61\n",
       "location    2533\n",
       "text           0\n",
       "target         0\n",
       "dtype: int64"
      ]
     },
     "execution_count": 3,
     "metadata": {},
     "output_type": "execute_result"
    }
   ],
   "source": [
    "#find nan values\n",
    "tweet.isnull().sum()"
   ]
  },
  {
   "cell_type": "code",
   "execution_count": 4,
   "metadata": {},
   "outputs": [
    {
     "data": {
      "application/vnd.plotly.v1+json": {
       "config": {
        "plotlyServerURL": "https://plot.ly"
       },
       "data": [
        {
         "alignmentgroup": "True",
         "hovertemplate": "color=Not a disaster<br>=%{x}<br>value=%{text}<extra></extra>",
         "legendgroup": "Not a disaster",
         "marker": {
          "color": "royalblue",
          "pattern": {
           "shape": ""
          }
         },
         "name": "Not a disaster",
         "offsetgroup": "Not a disaster",
         "orientation": "v",
         "showlegend": true,
         "text": [
          57.03
         ],
         "textposition": "outside",
         "texttemplate": "%{text:.4s}%",
         "type": "bar",
         "x": [
          "Not a disaster"
         ],
         "xaxis": "x",
         "y": [
          57.03
         ],
         "yaxis": "y"
        },
        {
         "alignmentgroup": "True",
         "hovertemplate": "color=Disaster<br>=%{x}<br>value=%{text}<extra></extra>",
         "legendgroup": "Disaster",
         "marker": {
          "color": "#880808",
          "pattern": {
           "shape": ""
          }
         },
         "name": "Disaster",
         "offsetgroup": "Disaster",
         "orientation": "v",
         "showlegend": true,
         "text": [
          42.97
         ],
         "textposition": "outside",
         "texttemplate": "%{text:.4s}%",
         "type": "bar",
         "x": [
          "Disaster"
         ],
         "xaxis": "x",
         "y": [
          42.97
         ],
         "yaxis": "y"
        }
       ],
       "layout": {
        "barmode": "relative",
        "height": 500,
        "legend": {
         "title": {
          "text": "color"
         },
         "tracegroupgap": 0
        },
        "showlegend": false,
        "template": {
         "data": {
          "bar": [
           {
            "error_x": {
             "color": "#f2f5fa"
            },
            "error_y": {
             "color": "#f2f5fa"
            },
            "marker": {
             "line": {
              "color": "rgb(17,17,17)",
              "width": 0.5
             },
             "pattern": {
              "fillmode": "overlay",
              "size": 10,
              "solidity": 0.2
             }
            },
            "type": "bar"
           }
          ],
          "barpolar": [
           {
            "marker": {
             "line": {
              "color": "rgb(17,17,17)",
              "width": 0.5
             },
             "pattern": {
              "fillmode": "overlay",
              "size": 10,
              "solidity": 0.2
             }
            },
            "type": "barpolar"
           }
          ],
          "carpet": [
           {
            "aaxis": {
             "endlinecolor": "#A2B1C6",
             "gridcolor": "#506784",
             "linecolor": "#506784",
             "minorgridcolor": "#506784",
             "startlinecolor": "#A2B1C6"
            },
            "baxis": {
             "endlinecolor": "#A2B1C6",
             "gridcolor": "#506784",
             "linecolor": "#506784",
             "minorgridcolor": "#506784",
             "startlinecolor": "#A2B1C6"
            },
            "type": "carpet"
           }
          ],
          "choropleth": [
           {
            "colorbar": {
             "outlinewidth": 0,
             "ticks": ""
            },
            "type": "choropleth"
           }
          ],
          "contour": [
           {
            "colorbar": {
             "outlinewidth": 0,
             "ticks": ""
            },
            "colorscale": [
             [
              0,
              "#0d0887"
             ],
             [
              0.1111111111111111,
              "#46039f"
             ],
             [
              0.2222222222222222,
              "#7201a8"
             ],
             [
              0.3333333333333333,
              "#9c179e"
             ],
             [
              0.4444444444444444,
              "#bd3786"
             ],
             [
              0.5555555555555556,
              "#d8576b"
             ],
             [
              0.6666666666666666,
              "#ed7953"
             ],
             [
              0.7777777777777778,
              "#fb9f3a"
             ],
             [
              0.8888888888888888,
              "#fdca26"
             ],
             [
              1,
              "#f0f921"
             ]
            ],
            "type": "contour"
           }
          ],
          "contourcarpet": [
           {
            "colorbar": {
             "outlinewidth": 0,
             "ticks": ""
            },
            "type": "contourcarpet"
           }
          ],
          "heatmap": [
           {
            "colorbar": {
             "outlinewidth": 0,
             "ticks": ""
            },
            "colorscale": [
             [
              0,
              "#0d0887"
             ],
             [
              0.1111111111111111,
              "#46039f"
             ],
             [
              0.2222222222222222,
              "#7201a8"
             ],
             [
              0.3333333333333333,
              "#9c179e"
             ],
             [
              0.4444444444444444,
              "#bd3786"
             ],
             [
              0.5555555555555556,
              "#d8576b"
             ],
             [
              0.6666666666666666,
              "#ed7953"
             ],
             [
              0.7777777777777778,
              "#fb9f3a"
             ],
             [
              0.8888888888888888,
              "#fdca26"
             ],
             [
              1,
              "#f0f921"
             ]
            ],
            "type": "heatmap"
           }
          ],
          "heatmapgl": [
           {
            "colorbar": {
             "outlinewidth": 0,
             "ticks": ""
            },
            "colorscale": [
             [
              0,
              "#0d0887"
             ],
             [
              0.1111111111111111,
              "#46039f"
             ],
             [
              0.2222222222222222,
              "#7201a8"
             ],
             [
              0.3333333333333333,
              "#9c179e"
             ],
             [
              0.4444444444444444,
              "#bd3786"
             ],
             [
              0.5555555555555556,
              "#d8576b"
             ],
             [
              0.6666666666666666,
              "#ed7953"
             ],
             [
              0.7777777777777778,
              "#fb9f3a"
             ],
             [
              0.8888888888888888,
              "#fdca26"
             ],
             [
              1,
              "#f0f921"
             ]
            ],
            "type": "heatmapgl"
           }
          ],
          "histogram": [
           {
            "marker": {
             "pattern": {
              "fillmode": "overlay",
              "size": 10,
              "solidity": 0.2
             }
            },
            "type": "histogram"
           }
          ],
          "histogram2d": [
           {
            "colorbar": {
             "outlinewidth": 0,
             "ticks": ""
            },
            "colorscale": [
             [
              0,
              "#0d0887"
             ],
             [
              0.1111111111111111,
              "#46039f"
             ],
             [
              0.2222222222222222,
              "#7201a8"
             ],
             [
              0.3333333333333333,
              "#9c179e"
             ],
             [
              0.4444444444444444,
              "#bd3786"
             ],
             [
              0.5555555555555556,
              "#d8576b"
             ],
             [
              0.6666666666666666,
              "#ed7953"
             ],
             [
              0.7777777777777778,
              "#fb9f3a"
             ],
             [
              0.8888888888888888,
              "#fdca26"
             ],
             [
              1,
              "#f0f921"
             ]
            ],
            "type": "histogram2d"
           }
          ],
          "histogram2dcontour": [
           {
            "colorbar": {
             "outlinewidth": 0,
             "ticks": ""
            },
            "colorscale": [
             [
              0,
              "#0d0887"
             ],
             [
              0.1111111111111111,
              "#46039f"
             ],
             [
              0.2222222222222222,
              "#7201a8"
             ],
             [
              0.3333333333333333,
              "#9c179e"
             ],
             [
              0.4444444444444444,
              "#bd3786"
             ],
             [
              0.5555555555555556,
              "#d8576b"
             ],
             [
              0.6666666666666666,
              "#ed7953"
             ],
             [
              0.7777777777777778,
              "#fb9f3a"
             ],
             [
              0.8888888888888888,
              "#fdca26"
             ],
             [
              1,
              "#f0f921"
             ]
            ],
            "type": "histogram2dcontour"
           }
          ],
          "mesh3d": [
           {
            "colorbar": {
             "outlinewidth": 0,
             "ticks": ""
            },
            "type": "mesh3d"
           }
          ],
          "parcoords": [
           {
            "line": {
             "colorbar": {
              "outlinewidth": 0,
              "ticks": ""
             }
            },
            "type": "parcoords"
           }
          ],
          "pie": [
           {
            "automargin": true,
            "type": "pie"
           }
          ],
          "scatter": [
           {
            "marker": {
             "line": {
              "color": "#283442"
             }
            },
            "type": "scatter"
           }
          ],
          "scatter3d": [
           {
            "line": {
             "colorbar": {
              "outlinewidth": 0,
              "ticks": ""
             }
            },
            "marker": {
             "colorbar": {
              "outlinewidth": 0,
              "ticks": ""
             }
            },
            "type": "scatter3d"
           }
          ],
          "scattercarpet": [
           {
            "marker": {
             "colorbar": {
              "outlinewidth": 0,
              "ticks": ""
             }
            },
            "type": "scattercarpet"
           }
          ],
          "scattergeo": [
           {
            "marker": {
             "colorbar": {
              "outlinewidth": 0,
              "ticks": ""
             }
            },
            "type": "scattergeo"
           }
          ],
          "scattergl": [
           {
            "marker": {
             "line": {
              "color": "#283442"
             }
            },
            "type": "scattergl"
           }
          ],
          "scattermapbox": [
           {
            "marker": {
             "colorbar": {
              "outlinewidth": 0,
              "ticks": ""
             }
            },
            "type": "scattermapbox"
           }
          ],
          "scatterpolar": [
           {
            "marker": {
             "colorbar": {
              "outlinewidth": 0,
              "ticks": ""
             }
            },
            "type": "scatterpolar"
           }
          ],
          "scatterpolargl": [
           {
            "marker": {
             "colorbar": {
              "outlinewidth": 0,
              "ticks": ""
             }
            },
            "type": "scatterpolargl"
           }
          ],
          "scatterternary": [
           {
            "marker": {
             "colorbar": {
              "outlinewidth": 0,
              "ticks": ""
             }
            },
            "type": "scatterternary"
           }
          ],
          "surface": [
           {
            "colorbar": {
             "outlinewidth": 0,
             "ticks": ""
            },
            "colorscale": [
             [
              0,
              "#0d0887"
             ],
             [
              0.1111111111111111,
              "#46039f"
             ],
             [
              0.2222222222222222,
              "#7201a8"
             ],
             [
              0.3333333333333333,
              "#9c179e"
             ],
             [
              0.4444444444444444,
              "#bd3786"
             ],
             [
              0.5555555555555556,
              "#d8576b"
             ],
             [
              0.6666666666666666,
              "#ed7953"
             ],
             [
              0.7777777777777778,
              "#fb9f3a"
             ],
             [
              0.8888888888888888,
              "#fdca26"
             ],
             [
              1,
              "#f0f921"
             ]
            ],
            "type": "surface"
           }
          ],
          "table": [
           {
            "cells": {
             "fill": {
              "color": "#506784"
             },
             "line": {
              "color": "rgb(17,17,17)"
             }
            },
            "header": {
             "fill": {
              "color": "#2a3f5f"
             },
             "line": {
              "color": "rgb(17,17,17)"
             }
            },
            "type": "table"
           }
          ]
         },
         "layout": {
          "annotationdefaults": {
           "arrowcolor": "#f2f5fa",
           "arrowhead": 0,
           "arrowwidth": 1
          },
          "autotypenumbers": "strict",
          "coloraxis": {
           "colorbar": {
            "outlinewidth": 0,
            "ticks": ""
           }
          },
          "colorscale": {
           "diverging": [
            [
             0,
             "#8e0152"
            ],
            [
             0.1,
             "#c51b7d"
            ],
            [
             0.2,
             "#de77ae"
            ],
            [
             0.3,
             "#f1b6da"
            ],
            [
             0.4,
             "#fde0ef"
            ],
            [
             0.5,
             "#f7f7f7"
            ],
            [
             0.6,
             "#e6f5d0"
            ],
            [
             0.7,
             "#b8e186"
            ],
            [
             0.8,
             "#7fbc41"
            ],
            [
             0.9,
             "#4d9221"
            ],
            [
             1,
             "#276419"
            ]
           ],
           "sequential": [
            [
             0,
             "#0d0887"
            ],
            [
             0.1111111111111111,
             "#46039f"
            ],
            [
             0.2222222222222222,
             "#7201a8"
            ],
            [
             0.3333333333333333,
             "#9c179e"
            ],
            [
             0.4444444444444444,
             "#bd3786"
            ],
            [
             0.5555555555555556,
             "#d8576b"
            ],
            [
             0.6666666666666666,
             "#ed7953"
            ],
            [
             0.7777777777777778,
             "#fb9f3a"
            ],
            [
             0.8888888888888888,
             "#fdca26"
            ],
            [
             1,
             "#f0f921"
            ]
           ],
           "sequentialminus": [
            [
             0,
             "#0d0887"
            ],
            [
             0.1111111111111111,
             "#46039f"
            ],
            [
             0.2222222222222222,
             "#7201a8"
            ],
            [
             0.3333333333333333,
             "#9c179e"
            ],
            [
             0.4444444444444444,
             "#bd3786"
            ],
            [
             0.5555555555555556,
             "#d8576b"
            ],
            [
             0.6666666666666666,
             "#ed7953"
            ],
            [
             0.7777777777777778,
             "#fb9f3a"
            ],
            [
             0.8888888888888888,
             "#fdca26"
            ],
            [
             1,
             "#f0f921"
            ]
           ]
          },
          "colorway": [
           "#636efa",
           "#EF553B",
           "#00cc96",
           "#ab63fa",
           "#FFA15A",
           "#19d3f3",
           "#FF6692",
           "#B6E880",
           "#FF97FF",
           "#FECB52"
          ],
          "font": {
           "color": "#f2f5fa"
          },
          "geo": {
           "bgcolor": "rgb(17,17,17)",
           "lakecolor": "rgb(17,17,17)",
           "landcolor": "rgb(17,17,17)",
           "showlakes": true,
           "showland": true,
           "subunitcolor": "#506784"
          },
          "hoverlabel": {
           "align": "left"
          },
          "hovermode": "closest",
          "mapbox": {
           "style": "dark"
          },
          "paper_bgcolor": "rgb(17,17,17)",
          "plot_bgcolor": "rgb(17,17,17)",
          "polar": {
           "angularaxis": {
            "gridcolor": "#506784",
            "linecolor": "#506784",
            "ticks": ""
           },
           "bgcolor": "rgb(17,17,17)",
           "radialaxis": {
            "gridcolor": "#506784",
            "linecolor": "#506784",
            "ticks": ""
           }
          },
          "scene": {
           "xaxis": {
            "backgroundcolor": "rgb(17,17,17)",
            "gridcolor": "#506784",
            "gridwidth": 2,
            "linecolor": "#506784",
            "showbackground": true,
            "ticks": "",
            "zerolinecolor": "#C8D4E3"
           },
           "yaxis": {
            "backgroundcolor": "rgb(17,17,17)",
            "gridcolor": "#506784",
            "gridwidth": 2,
            "linecolor": "#506784",
            "showbackground": true,
            "ticks": "",
            "zerolinecolor": "#C8D4E3"
           },
           "zaxis": {
            "backgroundcolor": "rgb(17,17,17)",
            "gridcolor": "#506784",
            "gridwidth": 2,
            "linecolor": "#506784",
            "showbackground": true,
            "ticks": "",
            "zerolinecolor": "#C8D4E3"
           }
          },
          "shapedefaults": {
           "line": {
            "color": "#f2f5fa"
           }
          },
          "sliderdefaults": {
           "bgcolor": "#C8D4E3",
           "bordercolor": "rgb(17,17,17)",
           "borderwidth": 1,
           "tickwidth": 0
          },
          "ternary": {
           "aaxis": {
            "gridcolor": "#506784",
            "linecolor": "#506784",
            "ticks": ""
           },
           "baxis": {
            "gridcolor": "#506784",
            "linecolor": "#506784",
            "ticks": ""
           },
           "bgcolor": "rgb(17,17,17)",
           "caxis": {
            "gridcolor": "#506784",
            "linecolor": "#506784",
            "ticks": ""
           }
          },
          "title": {
           "x": 0.05
          },
          "updatemenudefaults": {
           "bgcolor": "#506784",
           "borderwidth": 0
          },
          "xaxis": {
           "automargin": true,
           "gridcolor": "#283442",
           "linecolor": "#506784",
           "ticks": "",
           "title": {
            "standoff": 15
           },
           "zerolinecolor": "#283442",
           "zerolinewidth": 2
          },
          "yaxis": {
           "automargin": true,
           "gridcolor": "#283442",
           "linecolor": "#506784",
           "ticks": "",
           "title": {
            "standoff": 15
           },
           "zerolinecolor": "#283442",
           "zerolinewidth": 2
          }
         }
        },
        "title": {
         "text": "Disaster Tweets Percentage",
         "x": 0.5
        },
        "width": 1000,
        "xaxis": {
         "anchor": "y",
         "domain": [
          0,
          1
         ],
         "title": {
          "text": ""
         }
        },
        "yaxis": {
         "anchor": "x",
         "domain": [
          0,
          1
         ],
         "title": {
          "text": "value"
         },
         "visible": false
        }
       }
      }
     },
     "metadata": {},
     "output_type": "display_data"
    }
   ],
   "source": [
    "# Copy the dataframe to avoid modifying the original one\n",
    "tweet_target = tweet.copy()\n",
    "\n",
    "# Update the target column to use as label for the bar chart\n",
    "tweet_target[\"target\"] = tweet_target[\"target\"].apply(lambda x: \"Disaster\" if x == 1 else \"Not a disaster\")\n",
    "\n",
    "# Bar chart\n",
    "fig = px.bar(round(tweet_target[\"target\"].value_counts(normalize=True)*100, 2),\n",
    "            template='plotly_dark', \n",
    "            title = \"Disaster Tweets Percentage\",\n",
    "            text=\"value\",\n",
    "            width=1000, height=500,\n",
    "            labels = {\"index\" : \"\"},\n",
    "            color=tweet_target[\"target\"].value_counts(normalize=True).index,\n",
    "            color_discrete_map={\"Disaster\": \"#880808\", \"Not a disaster\": \"royalblue\"},\n",
    "\n",
    "            )\n",
    "\n",
    "fig.update_traces(texttemplate='%{text:.4s}' + '%', textposition='outside')\n",
    "fig.update_layout(title_x=0.5, \n",
    "                    yaxis={'visible': False}, \n",
    "                    showlegend=False\n",
    "                    )\n",
    "fig.show()"
   ]
  },
  {
   "cell_type": "code",
   "execution_count": 5,
   "metadata": {},
   "outputs": [
    {
     "data": {
      "text/plain": [
       "'I m year old student university washington'"
      ]
     },
     "execution_count": 5,
     "metadata": {},
     "output_type": "execute_result"
    }
   ],
   "source": [
    "# Function to clean the text\n",
    "def clean_text(text):\n",
    "    # remove punctuation\n",
    "    text = ''.join([c for c in text if c not in r\"[!\\\"#$%&()'ûª*+,-./:;<=>?@[\\\\\\]^_`{|}~]+\"])\n",
    "    # remove stopwords\n",
    "    text = ' '.join([c for c in text.split() if c not in STOP_WORDS])\n",
    "    # remove numbers\n",
    "    text = ''.join([c for c in text if not c.isdigit()])\n",
    "    # lowercase\n",
    "    text = ' '.join(text.split()).lower()\n",
    "    # lemmatize\n",
    "    text = ' '.join([c.lemma_ for c in nlp(text)])\n",
    "    # remove words starting by http\n",
    "    text = ' '.join([c for c in text.split() if not c.startswith(\"http\")])\n",
    "    \n",
    "    return text\n",
    "\n",
    "# Text test\n",
    "test_function = \"I'm a 17 years old student at the University of Washington :)\"\n",
    "\n",
    "# Test of the function\n",
    "clean_text(test_function)"
   ]
  },
  {
   "cell_type": "code",
   "execution_count": 6,
   "metadata": {},
   "outputs": [
    {
     "data": {
      "text/html": [
       "<div>\n",
       "<style scoped>\n",
       "    .dataframe tbody tr th:only-of-type {\n",
       "        vertical-align: middle;\n",
       "    }\n",
       "\n",
       "    .dataframe tbody tr th {\n",
       "        vertical-align: top;\n",
       "    }\n",
       "\n",
       "    .dataframe thead th {\n",
       "        text-align: right;\n",
       "    }\n",
       "</style>\n",
       "<table border=\"1\" class=\"dataframe\">\n",
       "  <thead>\n",
       "    <tr style=\"text-align: right;\">\n",
       "      <th></th>\n",
       "      <th>id</th>\n",
       "      <th>keyword</th>\n",
       "      <th>location</th>\n",
       "      <th>text</th>\n",
       "      <th>target</th>\n",
       "      <th>text_clean</th>\n",
       "    </tr>\n",
       "  </thead>\n",
       "  <tbody>\n",
       "    <tr>\n",
       "      <th>0</th>\n",
       "      <td>1</td>\n",
       "      <td>NaN</td>\n",
       "      <td>NaN</td>\n",
       "      <td>Our Deeds are the Reason of this #earthquake M...</td>\n",
       "      <td>1</td>\n",
       "      <td>our deed reason earthquake may allah forgive</td>\n",
       "    </tr>\n",
       "    <tr>\n",
       "      <th>1</th>\n",
       "      <td>4</td>\n",
       "      <td>NaN</td>\n",
       "      <td>NaN</td>\n",
       "      <td>Forest fire near La Ronge Sask. Canada</td>\n",
       "      <td>1</td>\n",
       "      <td>forest fire near la ronge sask canada</td>\n",
       "    </tr>\n",
       "    <tr>\n",
       "      <th>2</th>\n",
       "      <td>5</td>\n",
       "      <td>NaN</td>\n",
       "      <td>NaN</td>\n",
       "      <td>All residents asked to 'shelter in place' are ...</td>\n",
       "      <td>1</td>\n",
       "      <td>all resident ask shelter place notify officer ...</td>\n",
       "    </tr>\n",
       "    <tr>\n",
       "      <th>3</th>\n",
       "      <td>6</td>\n",
       "      <td>NaN</td>\n",
       "      <td>NaN</td>\n",
       "      <td>13,000 people receive #wildfires evacuation or...</td>\n",
       "      <td>1</td>\n",
       "      <td>people receive wildfire evacuation order calif...</td>\n",
       "    </tr>\n",
       "    <tr>\n",
       "      <th>4</th>\n",
       "      <td>7</td>\n",
       "      <td>NaN</td>\n",
       "      <td>NaN</td>\n",
       "      <td>Just got sent this photo from Ruby #Alaska as ...</td>\n",
       "      <td>1</td>\n",
       "      <td>just got send photo ruby alaska smoke wildfire...</td>\n",
       "    </tr>\n",
       "  </tbody>\n",
       "</table>\n",
       "</div>"
      ],
      "text/plain": [
       "   id keyword location                                               text  \\\n",
       "0   1     NaN      NaN  Our Deeds are the Reason of this #earthquake M...   \n",
       "1   4     NaN      NaN             Forest fire near La Ronge Sask. Canada   \n",
       "2   5     NaN      NaN  All residents asked to 'shelter in place' are ...   \n",
       "3   6     NaN      NaN  13,000 people receive #wildfires evacuation or...   \n",
       "4   7     NaN      NaN  Just got sent this photo from Ruby #Alaska as ...   \n",
       "\n",
       "   target                                         text_clean  \n",
       "0       1       our deed reason earthquake may allah forgive  \n",
       "1       1              forest fire near la ronge sask canada  \n",
       "2       1  all resident ask shelter place notify officer ...  \n",
       "3       1  people receive wildfire evacuation order calif...  \n",
       "4       1  just got send photo ruby alaska smoke wildfire...  "
      ]
     },
     "execution_count": 6,
     "metadata": {},
     "output_type": "execute_result"
    }
   ],
   "source": [
    "# Using the function to clean the text on \"Tweet\" and \"test_tweet\"\n",
    "tweet[\"text_clean\"] = tweet[\"text\"].apply(clean_text)\n",
    "test_tweet[\"text_clean\"] = test_tweet[\"text\"].apply(clean_text)\n",
    "\n",
    "tweet.head()"
   ]
  },
  {
   "cell_type": "code",
   "execution_count": 7,
   "metadata": {},
   "outputs": [
    {
     "data": {
      "text/html": [
       "<div>\n",
       "<style scoped>\n",
       "    .dataframe tbody tr th:only-of-type {\n",
       "        vertical-align: middle;\n",
       "    }\n",
       "\n",
       "    .dataframe tbody tr th {\n",
       "        vertical-align: top;\n",
       "    }\n",
       "\n",
       "    .dataframe thead th {\n",
       "        text-align: right;\n",
       "    }\n",
       "</style>\n",
       "<table border=\"1\" class=\"dataframe\">\n",
       "  <thead>\n",
       "    <tr style=\"text-align: right;\">\n",
       "      <th></th>\n",
       "      <th>id</th>\n",
       "      <th>keyword</th>\n",
       "      <th>location</th>\n",
       "      <th>text</th>\n",
       "      <th>target</th>\n",
       "      <th>text_clean</th>\n",
       "      <th>text_encoded</th>\n",
       "    </tr>\n",
       "  </thead>\n",
       "  <tbody>\n",
       "    <tr>\n",
       "      <th>0</th>\n",
       "      <td>1</td>\n",
       "      <td>NaN</td>\n",
       "      <td>NaN</td>\n",
       "      <td>Our Deeds are the Reason of this #earthquake M...</td>\n",
       "      <td>1</td>\n",
       "      <td>our deed reason earthquake may allah forgive</td>\n",
       "      <td>[562, 3730, 465, 218, 876, 1349, 1797]</td>\n",
       "    </tr>\n",
       "    <tr>\n",
       "      <th>1</th>\n",
       "      <td>4</td>\n",
       "      <td>NaN</td>\n",
       "      <td>NaN</td>\n",
       "      <td>Forest fire near La Ronge Sask. Canada</td>\n",
       "      <td>1</td>\n",
       "      <td>forest fire near la ronge sask canada</td>\n",
       "      <td>[155, 7, 200, 563, 5489, 5490, 1104]</td>\n",
       "    </tr>\n",
       "    <tr>\n",
       "      <th>2</th>\n",
       "      <td>5</td>\n",
       "      <td>NaN</td>\n",
       "      <td>NaN</td>\n",
       "      <td>All residents asked to 'shelter in place' are ...</td>\n",
       "      <td>1</td>\n",
       "      <td>all resident ask shelter place notify officer ...</td>\n",
       "      <td>[119, 1472, 513, 1798, 390, 5491, 356, 143, 22...</td>\n",
       "    </tr>\n",
       "    <tr>\n",
       "      <th>3</th>\n",
       "      <td>6</td>\n",
       "      <td>NaN</td>\n",
       "      <td>NaN</td>\n",
       "      <td>13,000 people receive #wildfires evacuation or...</td>\n",
       "      <td>1</td>\n",
       "      <td>people receive wildfire evacuation order calif...</td>\n",
       "      <td>[16, 2410, 104, 222, 343, 52]</td>\n",
       "    </tr>\n",
       "    <tr>\n",
       "      <th>4</th>\n",
       "      <td>7</td>\n",
       "      <td>NaN</td>\n",
       "      <td>NaN</td>\n",
       "      <td>Just got sent this photo from Ruby #Alaska as ...</td>\n",
       "      <td>1</td>\n",
       "      <td>just got send photo ruby alaska smoke wildfire...</td>\n",
       "      <td>[201, 223, 224, 160, 5492, 1799, 230, 104, 241...</td>\n",
       "    </tr>\n",
       "  </tbody>\n",
       "</table>\n",
       "</div>"
      ],
      "text/plain": [
       "   id keyword location                                               text  \\\n",
       "0   1     NaN      NaN  Our Deeds are the Reason of this #earthquake M...   \n",
       "1   4     NaN      NaN             Forest fire near La Ronge Sask. Canada   \n",
       "2   5     NaN      NaN  All residents asked to 'shelter in place' are ...   \n",
       "3   6     NaN      NaN  13,000 people receive #wildfires evacuation or...   \n",
       "4   7     NaN      NaN  Just got sent this photo from Ruby #Alaska as ...   \n",
       "\n",
       "   target                                         text_clean  \\\n",
       "0       1       our deed reason earthquake may allah forgive   \n",
       "1       1              forest fire near la ronge sask canada   \n",
       "2       1  all resident ask shelter place notify officer ...   \n",
       "3       1  people receive wildfire evacuation order calif...   \n",
       "4       1  just got send photo ruby alaska smoke wildfire...   \n",
       "\n",
       "                                        text_encoded  \n",
       "0             [562, 3730, 465, 218, 876, 1349, 1797]  \n",
       "1               [155, 7, 200, 563, 5489, 5490, 1104]  \n",
       "2  [119, 1472, 513, 1798, 390, 5491, 356, 143, 22...  \n",
       "3                      [16, 2410, 104, 222, 343, 52]  \n",
       "4  [201, 223, 224, 160, 5492, 1799, 230, 104, 241...  "
      ]
     },
     "execution_count": 7,
     "metadata": {},
     "output_type": "execute_result"
    }
   ],
   "source": [
    "# Creation of a tokenizer\n",
    "tokenizer = tf.keras.preprocessing.text.Tokenizer(num_words=10000, oov_token=\"out_of_vocab\")\n",
    "\n",
    "# Training the tokenizer on the training set\n",
    "tokenizer.fit_on_texts(tweet['text_clean'])\n",
    "\n",
    "# Transform the text into sequences of integers\n",
    "tweet[\"text_encoded\"] = tokenizer.texts_to_sequences(tweet[\"text_clean\"])\n",
    "\n",
    "tweet.head()"
   ]
  },
  {
   "cell_type": "code",
   "execution_count": 8,
   "metadata": {},
   "outputs": [
    {
     "name": "stdout",
     "output_type": "stream",
     "text": [
      "tf.Tensor(\n",
      "[[   1    1    1 ...    0    0    0]\n",
      " [ 511   24  967 ...    0    0    0]\n",
      " [8808 8809 1206 ...    0    0    0]\n",
      " ...\n",
      " [4685   12  864 ...    0    0    0]\n",
      " [  43    2 1127 ...    0    0    0]\n",
      " [ 250  311  132 ...    0    0    0]], shape=(64, 28), dtype=int32) tf.Tensor(\n",
      "[1 0 0 1 0 0 0 0 1 0 0 0 0 1 0 1 0 0 0 1 1 1 1 0 1 1 0 1 0 0 1 1 0 1 0 0 1\n",
      " 1 1 1 0 1 0 0 1 0 1 1 1 0 1 1 0 1 0 0 0 1 0 0 1 1 1 0], shape=(64,), dtype=int64)\n"
     ]
    }
   ],
   "source": [
    "# Padding of the text\n",
    "reviews_pad = tf.keras.preprocessing.sequence.pad_sequences(tweet[\"text_encoded\"], padding=\"post\")\n",
    "\n",
    "# Train test split\n",
    "X_train, X_val, y_train, y_val = train_test_split(reviews_pad, tweet[\"target\"], test_size=0.3)\n",
    "\n",
    "# Turns dataframe into tensors\n",
    "train = tf.data.Dataset.from_tensor_slices((X_train, y_train))\n",
    "val = tf.data.Dataset.from_tensor_slices((X_val, y_val))\n",
    "\n",
    "# Create random batches\n",
    "train_batch = train.shuffle(len(train)).batch(64)\n",
    "val_batch = val.shuffle(len(val)).batch(64)\n",
    "\n",
    " # Display a batch\n",
    "for review, star in train_batch.take(1):\n",
    "  print(review, star)"
   ]
  },
  {
   "cell_type": "code",
   "execution_count": 9,
   "metadata": {},
   "outputs": [
    {
     "name": "stdout",
     "output_type": "stream",
     "text": [
      "Model: \"sequential\"\n",
      "_________________________________________________________________\n",
      " Layer (type)                Output Shape              Param #   \n",
      "=================================================================\n",
      " embedding (Embedding)       (None, 28, 7)             70000     \n",
      "                                                                 \n",
      " global_average_pooling1d (G  (None, 7)                0         \n",
      " lobalAveragePooling1D)                                          \n",
      "                                                                 \n",
      " dense (Dense)               (None, 14)                112       \n",
      "                                                                 \n",
      " dense_1 (Dense)             (None, 1)                 15        \n",
      "                                                                 \n",
      "=================================================================\n",
      "Total params: 70,127\n",
      "Trainable params: 70,127\n",
      "Non-trainable params: 0\n",
      "_________________________________________________________________\n"
     ]
    }
   ],
   "source": [
    "vocab_size = tokenizer.num_words # the number of words in the vocabulary\n",
    "\n",
    "# Defines a text classifier model\n",
    "model = tf.keras.Sequential([\n",
    "    Embedding(input_dim=vocab_size, output_dim=7, input_shape=[review.shape[1],]),\n",
    "    tf.keras.layers.GlobalAveragePooling1D(),\n",
    "    tf.keras.layers.Dense(14, activation='relu'),\n",
    "    tf.keras.layers.Dense(1, activation='sigmoid')  # Binary classification between 0 and 1\n",
    "])\n",
    "\n",
    "model.compile(\n",
    "    loss='binary_crossentropy',\n",
    "    optimizer=Adam(learning_rate=0.001),\n",
    "    metrics=['accuracy']\n",
    ")\n",
    "\n",
    "checkpoint = ModelCheckpoint(\"model/disaster_analysis.h5\", monitor='val_accuracy', verbose=1, save_best_only=True, save_weights_only=False, mode='auto') \n",
    "\n",
    "model.summary()"
   ]
  },
  {
   "cell_type": "code",
   "execution_count": 10,
   "metadata": {},
   "outputs": [
    {
     "name": "stdout",
     "output_type": "stream",
     "text": [
      "Epoch 1/15\n",
      "68/84 [=======================>......] - ETA: 0s - loss: 0.6860 - accuracy: 0.5692\n",
      "Epoch 1: val_accuracy improved from -inf to 0.56961, saving model to model\\disaster_analysis.h5\n",
      "84/84 [==============================] - 1s 6ms/step - loss: 0.6843 - accuracy: 0.5708 - val_loss: 0.6771 - val_accuracy: 0.5696\n",
      "Epoch 2/15\n",
      "76/84 [==========================>...] - ETA: 0s - loss: 0.6675 - accuracy: 0.5691\n",
      "Epoch 2: val_accuracy improved from 0.56961 to 0.57618, saving model to model\\disaster_analysis.h5\n",
      "84/84 [==============================] - 0s 3ms/step - loss: 0.6661 - accuracy: 0.5710 - val_loss: 0.6570 - val_accuracy: 0.5762\n",
      "Epoch 3/15\n",
      "78/84 [==========================>...] - ETA: 0s - loss: 0.6294 - accuracy: 0.6258\n",
      "Epoch 3: val_accuracy improved from 0.57618 to 0.69221, saving model to model\\disaster_analysis.h5\n",
      "84/84 [==============================] - 0s 3ms/step - loss: 0.6279 - accuracy: 0.6307 - val_loss: 0.6177 - val_accuracy: 0.6922\n",
      "Epoch 4/15\n",
      "75/84 [=========================>....] - ETA: 0s - loss: 0.5682 - accuracy: 0.7567\n",
      "Epoch 4: val_accuracy improved from 0.69221 to 0.74387, saving model to model\\disaster_analysis.h5\n",
      "84/84 [==============================] - 0s 3ms/step - loss: 0.5639 - accuracy: 0.7609 - val_loss: 0.5671 - val_accuracy: 0.7439\n",
      "Epoch 5/15\n",
      "74/84 [=========================>....] - ETA: 0s - loss: 0.4921 - accuracy: 0.8258\n",
      "Epoch 5: val_accuracy improved from 0.74387 to 0.78371, saving model to model\\disaster_analysis.h5\n",
      "84/84 [==============================] - 0s 3ms/step - loss: 0.4878 - accuracy: 0.8255 - val_loss: 0.5203 - val_accuracy: 0.7837\n",
      "Epoch 6/15\n",
      "75/84 [=========================>....] - ETA: 0s - loss: 0.4172 - accuracy: 0.8581\n",
      "Epoch 6: val_accuracy improved from 0.78371 to 0.79072, saving model to model\\disaster_analysis.h5\n",
      "84/84 [==============================] - 0s 3ms/step - loss: 0.4167 - accuracy: 0.8581 - val_loss: 0.4892 - val_accuracy: 0.7907\n",
      "Epoch 7/15\n",
      "75/84 [=========================>....] - ETA: 0s - loss: 0.3609 - accuracy: 0.8763\n",
      "Epoch 7: val_accuracy did not improve from 0.79072\n",
      "84/84 [==============================] - 0s 3ms/step - loss: 0.3600 - accuracy: 0.8750 - val_loss: 0.4803 - val_accuracy: 0.7846\n",
      "Epoch 8/15\n",
      "78/84 [==========================>...] - ETA: 0s - loss: 0.3190 - accuracy: 0.8872\n",
      "Epoch 8: val_accuracy improved from 0.79072 to 0.80166, saving model to model\\disaster_analysis.h5\n",
      "84/84 [==============================] - 0s 3ms/step - loss: 0.3192 - accuracy: 0.8868 - val_loss: 0.4661 - val_accuracy: 0.8017\n",
      "Epoch 9/15\n",
      "75/84 [=========================>....] - ETA: 0s - loss: 0.2866 - accuracy: 0.8969\n",
      "Epoch 9: val_accuracy did not improve from 0.80166\n",
      "84/84 [==============================] - 0s 3ms/step - loss: 0.2840 - accuracy: 0.8985 - val_loss: 0.4662 - val_accuracy: 0.8004\n",
      "Epoch 10/15\n",
      "79/84 [===========================>..] - ETA: 0s - loss: 0.2565 - accuracy: 0.9051\n",
      "Epoch 10: val_accuracy did not improve from 0.80166\n",
      "84/84 [==============================] - 0s 3ms/step - loss: 0.2557 - accuracy: 0.9056 - val_loss: 0.4705 - val_accuracy: 0.7986\n",
      "Epoch 11/15\n",
      "81/84 [===========================>..] - ETA: 0s - loss: 0.2323 - accuracy: 0.9180\n",
      "Epoch 11: val_accuracy did not improve from 0.80166\n",
      "84/84 [==============================] - 0s 3ms/step - loss: 0.2323 - accuracy: 0.9178 - val_loss: 0.4793 - val_accuracy: 0.7977\n",
      "Epoch 12/15\n",
      "79/84 [===========================>..] - ETA: 0s - loss: 0.2112 - accuracy: 0.9260\n",
      "Epoch 12: val_accuracy did not improve from 0.80166\n",
      "84/84 [==============================] - 0s 3ms/step - loss: 0.2125 - accuracy: 0.9246 - val_loss: 0.4888 - val_accuracy: 0.8008\n",
      "Epoch 13/15\n",
      "80/84 [===========================>..] - ETA: 0s - loss: 0.1966 - accuracy: 0.9277\n",
      "Epoch 13: val_accuracy improved from 0.80166 to 0.80254, saving model to model\\disaster_analysis.h5\n",
      "84/84 [==============================] - 0s 3ms/step - loss: 0.1952 - accuracy: 0.9283 - val_loss: 0.4999 - val_accuracy: 0.8025\n",
      "Epoch 14/15\n",
      "66/84 [======================>.......] - ETA: 0s - loss: 0.1794 - accuracy: 0.9347\n",
      "Epoch 14: val_accuracy did not improve from 0.80254\n",
      "84/84 [==============================] - 0s 3ms/step - loss: 0.1798 - accuracy: 0.9338 - val_loss: 0.5119 - val_accuracy: 0.7999\n",
      "Epoch 15/15\n",
      "83/84 [============================>.] - ETA: 0s - loss: 0.1676 - accuracy: 0.9399\n",
      "Epoch 15: val_accuracy did not improve from 0.80254\n",
      "84/84 [==============================] - 0s 3ms/step - loss: 0.1673 - accuracy: 0.9401 - val_loss: 0.5261 - val_accuracy: 0.8017\n"
     ]
    }
   ],
   "source": [
    "# Trains the model\n",
    "history = model.fit(\n",
    "    np.array(X_train), #must convert to numpy array before sending to model\n",
    "    np.array(y_train), #must convert to numpy array before sending to model\n",
    "    epochs=15, \n",
    "    batch_size=64,\n",
    "    validation_data=(X_val, y_val),\n",
    "    callbacks = [checkpoint])"
   ]
  },
  {
   "cell_type": "code",
   "execution_count": 11,
   "metadata": {},
   "outputs": [
    {
     "data": {
      "text/html": [
       "<div>\n",
       "<style scoped>\n",
       "    .dataframe tbody tr th:only-of-type {\n",
       "        vertical-align: middle;\n",
       "    }\n",
       "\n",
       "    .dataframe tbody tr th {\n",
       "        vertical-align: top;\n",
       "    }\n",
       "\n",
       "    .dataframe thead th {\n",
       "        text-align: right;\n",
       "    }\n",
       "</style>\n",
       "<table border=\"1\" class=\"dataframe\">\n",
       "  <thead>\n",
       "    <tr style=\"text-align: right;\">\n",
       "      <th></th>\n",
       "      <th>loss</th>\n",
       "      <th>accuracy</th>\n",
       "      <th>val_loss</th>\n",
       "      <th>val_accuracy</th>\n",
       "    </tr>\n",
       "  </thead>\n",
       "  <tbody>\n",
       "    <tr>\n",
       "      <th>0</th>\n",
       "      <td>0.684271</td>\n",
       "      <td>0.570839</td>\n",
       "      <td>0.677083</td>\n",
       "      <td>0.569615</td>\n",
       "    </tr>\n",
       "    <tr>\n",
       "      <th>1</th>\n",
       "      <td>0.666057</td>\n",
       "      <td>0.571026</td>\n",
       "      <td>0.656991</td>\n",
       "      <td>0.576182</td>\n",
       "    </tr>\n",
       "    <tr>\n",
       "      <th>2</th>\n",
       "      <td>0.627859</td>\n",
       "      <td>0.630700</td>\n",
       "      <td>0.617750</td>\n",
       "      <td>0.692207</td>\n",
       "    </tr>\n",
       "    <tr>\n",
       "      <th>3</th>\n",
       "      <td>0.563940</td>\n",
       "      <td>0.760931</td>\n",
       "      <td>0.567065</td>\n",
       "      <td>0.743870</td>\n",
       "    </tr>\n",
       "    <tr>\n",
       "      <th>4</th>\n",
       "      <td>0.487757</td>\n",
       "      <td>0.825483</td>\n",
       "      <td>0.520313</td>\n",
       "      <td>0.783713</td>\n",
       "    </tr>\n",
       "  </tbody>\n",
       "</table>\n",
       "</div>"
      ],
      "text/plain": [
       "       loss  accuracy  val_loss  val_accuracy\n",
       "0  0.684271  0.570839  0.677083      0.569615\n",
       "1  0.666057  0.571026  0.656991      0.576182\n",
       "2  0.627859  0.630700  0.617750      0.692207\n",
       "3  0.563940  0.760931  0.567065      0.743870\n",
       "4  0.487757  0.825483  0.520313      0.783713"
      ]
     },
     "execution_count": 11,
     "metadata": {},
     "output_type": "execute_result"
    }
   ],
   "source": [
    "model_loss = pd.DataFrame(model.history.history)\n",
    "model_loss.head()"
   ]
  },
  {
   "cell_type": "code",
   "execution_count": 12,
   "metadata": {},
   "outputs": [
    {
     "data": {
      "application/vnd.plotly.v1+json": {
       "config": {
        "plotlyServerURL": "https://plot.ly"
       },
       "data": [
        {
         "mode": "lines",
         "name": "accuracy",
         "type": "scatter",
         "y": [
          0.5708388090133667,
          0.5710264444351196,
          0.6306999325752258,
          0.7609307765960693,
          0.8254832029342651,
          0.8581347465515137,
          0.8750234842300415,
          0.886845588684082,
          0.8984799981117249,
          0.9056107997894287,
          0.9178082346916199,
          0.9245637059211731,
          0.9283167719841003,
          0.9337586760520935,
          0.9401388764381409
         ]
        },
        {
         "mode": "lines",
         "name": "val_accuracy",
         "type": "scatter",
         "y": [
          0.5696147084236145,
          0.5761821269989014,
          0.6922066807746887,
          0.7438703775405884,
          0.7837128043174744,
          0.7907180190086365,
          0.7845884561538696,
          0.8016637563705444,
          0.8003502488136292,
          0.7985989451408386,
          0.7977232933044434,
          0.8007881045341492,
          0.8025394082069397,
          0.7999124526977539,
          0.8016637563705444
         ]
        }
       ],
       "layout": {
        "template": {
         "data": {
          "bar": [
           {
            "error_x": {
             "color": "#2a3f5f"
            },
            "error_y": {
             "color": "#2a3f5f"
            },
            "marker": {
             "line": {
              "color": "#E5ECF6",
              "width": 0.5
             },
             "pattern": {
              "fillmode": "overlay",
              "size": 10,
              "solidity": 0.2
             }
            },
            "type": "bar"
           }
          ],
          "barpolar": [
           {
            "marker": {
             "line": {
              "color": "#E5ECF6",
              "width": 0.5
             },
             "pattern": {
              "fillmode": "overlay",
              "size": 10,
              "solidity": 0.2
             }
            },
            "type": "barpolar"
           }
          ],
          "carpet": [
           {
            "aaxis": {
             "endlinecolor": "#2a3f5f",
             "gridcolor": "white",
             "linecolor": "white",
             "minorgridcolor": "white",
             "startlinecolor": "#2a3f5f"
            },
            "baxis": {
             "endlinecolor": "#2a3f5f",
             "gridcolor": "white",
             "linecolor": "white",
             "minorgridcolor": "white",
             "startlinecolor": "#2a3f5f"
            },
            "type": "carpet"
           }
          ],
          "choropleth": [
           {
            "colorbar": {
             "outlinewidth": 0,
             "ticks": ""
            },
            "type": "choropleth"
           }
          ],
          "contour": [
           {
            "colorbar": {
             "outlinewidth": 0,
             "ticks": ""
            },
            "colorscale": [
             [
              0,
              "#0d0887"
             ],
             [
              0.1111111111111111,
              "#46039f"
             ],
             [
              0.2222222222222222,
              "#7201a8"
             ],
             [
              0.3333333333333333,
              "#9c179e"
             ],
             [
              0.4444444444444444,
              "#bd3786"
             ],
             [
              0.5555555555555556,
              "#d8576b"
             ],
             [
              0.6666666666666666,
              "#ed7953"
             ],
             [
              0.7777777777777778,
              "#fb9f3a"
             ],
             [
              0.8888888888888888,
              "#fdca26"
             ],
             [
              1,
              "#f0f921"
             ]
            ],
            "type": "contour"
           }
          ],
          "contourcarpet": [
           {
            "colorbar": {
             "outlinewidth": 0,
             "ticks": ""
            },
            "type": "contourcarpet"
           }
          ],
          "heatmap": [
           {
            "colorbar": {
             "outlinewidth": 0,
             "ticks": ""
            },
            "colorscale": [
             [
              0,
              "#0d0887"
             ],
             [
              0.1111111111111111,
              "#46039f"
             ],
             [
              0.2222222222222222,
              "#7201a8"
             ],
             [
              0.3333333333333333,
              "#9c179e"
             ],
             [
              0.4444444444444444,
              "#bd3786"
             ],
             [
              0.5555555555555556,
              "#d8576b"
             ],
             [
              0.6666666666666666,
              "#ed7953"
             ],
             [
              0.7777777777777778,
              "#fb9f3a"
             ],
             [
              0.8888888888888888,
              "#fdca26"
             ],
             [
              1,
              "#f0f921"
             ]
            ],
            "type": "heatmap"
           }
          ],
          "heatmapgl": [
           {
            "colorbar": {
             "outlinewidth": 0,
             "ticks": ""
            },
            "colorscale": [
             [
              0,
              "#0d0887"
             ],
             [
              0.1111111111111111,
              "#46039f"
             ],
             [
              0.2222222222222222,
              "#7201a8"
             ],
             [
              0.3333333333333333,
              "#9c179e"
             ],
             [
              0.4444444444444444,
              "#bd3786"
             ],
             [
              0.5555555555555556,
              "#d8576b"
             ],
             [
              0.6666666666666666,
              "#ed7953"
             ],
             [
              0.7777777777777778,
              "#fb9f3a"
             ],
             [
              0.8888888888888888,
              "#fdca26"
             ],
             [
              1,
              "#f0f921"
             ]
            ],
            "type": "heatmapgl"
           }
          ],
          "histogram": [
           {
            "marker": {
             "pattern": {
              "fillmode": "overlay",
              "size": 10,
              "solidity": 0.2
             }
            },
            "type": "histogram"
           }
          ],
          "histogram2d": [
           {
            "colorbar": {
             "outlinewidth": 0,
             "ticks": ""
            },
            "colorscale": [
             [
              0,
              "#0d0887"
             ],
             [
              0.1111111111111111,
              "#46039f"
             ],
             [
              0.2222222222222222,
              "#7201a8"
             ],
             [
              0.3333333333333333,
              "#9c179e"
             ],
             [
              0.4444444444444444,
              "#bd3786"
             ],
             [
              0.5555555555555556,
              "#d8576b"
             ],
             [
              0.6666666666666666,
              "#ed7953"
             ],
             [
              0.7777777777777778,
              "#fb9f3a"
             ],
             [
              0.8888888888888888,
              "#fdca26"
             ],
             [
              1,
              "#f0f921"
             ]
            ],
            "type": "histogram2d"
           }
          ],
          "histogram2dcontour": [
           {
            "colorbar": {
             "outlinewidth": 0,
             "ticks": ""
            },
            "colorscale": [
             [
              0,
              "#0d0887"
             ],
             [
              0.1111111111111111,
              "#46039f"
             ],
             [
              0.2222222222222222,
              "#7201a8"
             ],
             [
              0.3333333333333333,
              "#9c179e"
             ],
             [
              0.4444444444444444,
              "#bd3786"
             ],
             [
              0.5555555555555556,
              "#d8576b"
             ],
             [
              0.6666666666666666,
              "#ed7953"
             ],
             [
              0.7777777777777778,
              "#fb9f3a"
             ],
             [
              0.8888888888888888,
              "#fdca26"
             ],
             [
              1,
              "#f0f921"
             ]
            ],
            "type": "histogram2dcontour"
           }
          ],
          "mesh3d": [
           {
            "colorbar": {
             "outlinewidth": 0,
             "ticks": ""
            },
            "type": "mesh3d"
           }
          ],
          "parcoords": [
           {
            "line": {
             "colorbar": {
              "outlinewidth": 0,
              "ticks": ""
             }
            },
            "type": "parcoords"
           }
          ],
          "pie": [
           {
            "automargin": true,
            "type": "pie"
           }
          ],
          "scatter": [
           {
            "marker": {
             "colorbar": {
              "outlinewidth": 0,
              "ticks": ""
             }
            },
            "type": "scatter"
           }
          ],
          "scatter3d": [
           {
            "line": {
             "colorbar": {
              "outlinewidth": 0,
              "ticks": ""
             }
            },
            "marker": {
             "colorbar": {
              "outlinewidth": 0,
              "ticks": ""
             }
            },
            "type": "scatter3d"
           }
          ],
          "scattercarpet": [
           {
            "marker": {
             "colorbar": {
              "outlinewidth": 0,
              "ticks": ""
             }
            },
            "type": "scattercarpet"
           }
          ],
          "scattergeo": [
           {
            "marker": {
             "colorbar": {
              "outlinewidth": 0,
              "ticks": ""
             }
            },
            "type": "scattergeo"
           }
          ],
          "scattergl": [
           {
            "marker": {
             "colorbar": {
              "outlinewidth": 0,
              "ticks": ""
             }
            },
            "type": "scattergl"
           }
          ],
          "scattermapbox": [
           {
            "marker": {
             "colorbar": {
              "outlinewidth": 0,
              "ticks": ""
             }
            },
            "type": "scattermapbox"
           }
          ],
          "scatterpolar": [
           {
            "marker": {
             "colorbar": {
              "outlinewidth": 0,
              "ticks": ""
             }
            },
            "type": "scatterpolar"
           }
          ],
          "scatterpolargl": [
           {
            "marker": {
             "colorbar": {
              "outlinewidth": 0,
              "ticks": ""
             }
            },
            "type": "scatterpolargl"
           }
          ],
          "scatterternary": [
           {
            "marker": {
             "colorbar": {
              "outlinewidth": 0,
              "ticks": ""
             }
            },
            "type": "scatterternary"
           }
          ],
          "surface": [
           {
            "colorbar": {
             "outlinewidth": 0,
             "ticks": ""
            },
            "colorscale": [
             [
              0,
              "#0d0887"
             ],
             [
              0.1111111111111111,
              "#46039f"
             ],
             [
              0.2222222222222222,
              "#7201a8"
             ],
             [
              0.3333333333333333,
              "#9c179e"
             ],
             [
              0.4444444444444444,
              "#bd3786"
             ],
             [
              0.5555555555555556,
              "#d8576b"
             ],
             [
              0.6666666666666666,
              "#ed7953"
             ],
             [
              0.7777777777777778,
              "#fb9f3a"
             ],
             [
              0.8888888888888888,
              "#fdca26"
             ],
             [
              1,
              "#f0f921"
             ]
            ],
            "type": "surface"
           }
          ],
          "table": [
           {
            "cells": {
             "fill": {
              "color": "#EBF0F8"
             },
             "line": {
              "color": "white"
             }
            },
            "header": {
             "fill": {
              "color": "#C8D4E3"
             },
             "line": {
              "color": "white"
             }
            },
            "type": "table"
           }
          ]
         },
         "layout": {
          "annotationdefaults": {
           "arrowcolor": "#2a3f5f",
           "arrowhead": 0,
           "arrowwidth": 1
          },
          "autotypenumbers": "strict",
          "coloraxis": {
           "colorbar": {
            "outlinewidth": 0,
            "ticks": ""
           }
          },
          "colorscale": {
           "diverging": [
            [
             0,
             "#8e0152"
            ],
            [
             0.1,
             "#c51b7d"
            ],
            [
             0.2,
             "#de77ae"
            ],
            [
             0.3,
             "#f1b6da"
            ],
            [
             0.4,
             "#fde0ef"
            ],
            [
             0.5,
             "#f7f7f7"
            ],
            [
             0.6,
             "#e6f5d0"
            ],
            [
             0.7,
             "#b8e186"
            ],
            [
             0.8,
             "#7fbc41"
            ],
            [
             0.9,
             "#4d9221"
            ],
            [
             1,
             "#276419"
            ]
           ],
           "sequential": [
            [
             0,
             "#0d0887"
            ],
            [
             0.1111111111111111,
             "#46039f"
            ],
            [
             0.2222222222222222,
             "#7201a8"
            ],
            [
             0.3333333333333333,
             "#9c179e"
            ],
            [
             0.4444444444444444,
             "#bd3786"
            ],
            [
             0.5555555555555556,
             "#d8576b"
            ],
            [
             0.6666666666666666,
             "#ed7953"
            ],
            [
             0.7777777777777778,
             "#fb9f3a"
            ],
            [
             0.8888888888888888,
             "#fdca26"
            ],
            [
             1,
             "#f0f921"
            ]
           ],
           "sequentialminus": [
            [
             0,
             "#0d0887"
            ],
            [
             0.1111111111111111,
             "#46039f"
            ],
            [
             0.2222222222222222,
             "#7201a8"
            ],
            [
             0.3333333333333333,
             "#9c179e"
            ],
            [
             0.4444444444444444,
             "#bd3786"
            ],
            [
             0.5555555555555556,
             "#d8576b"
            ],
            [
             0.6666666666666666,
             "#ed7953"
            ],
            [
             0.7777777777777778,
             "#fb9f3a"
            ],
            [
             0.8888888888888888,
             "#fdca26"
            ],
            [
             1,
             "#f0f921"
            ]
           ]
          },
          "colorway": [
           "#636efa",
           "#EF553B",
           "#00cc96",
           "#ab63fa",
           "#FFA15A",
           "#19d3f3",
           "#FF6692",
           "#B6E880",
           "#FF97FF",
           "#FECB52"
          ],
          "font": {
           "color": "#2a3f5f"
          },
          "geo": {
           "bgcolor": "white",
           "lakecolor": "white",
           "landcolor": "#E5ECF6",
           "showlakes": true,
           "showland": true,
           "subunitcolor": "white"
          },
          "hoverlabel": {
           "align": "left"
          },
          "hovermode": "closest",
          "mapbox": {
           "style": "light"
          },
          "paper_bgcolor": "white",
          "plot_bgcolor": "#E5ECF6",
          "polar": {
           "angularaxis": {
            "gridcolor": "white",
            "linecolor": "white",
            "ticks": ""
           },
           "bgcolor": "#E5ECF6",
           "radialaxis": {
            "gridcolor": "white",
            "linecolor": "white",
            "ticks": ""
           }
          },
          "scene": {
           "xaxis": {
            "backgroundcolor": "#E5ECF6",
            "gridcolor": "white",
            "gridwidth": 2,
            "linecolor": "white",
            "showbackground": true,
            "ticks": "",
            "zerolinecolor": "white"
           },
           "yaxis": {
            "backgroundcolor": "#E5ECF6",
            "gridcolor": "white",
            "gridwidth": 2,
            "linecolor": "white",
            "showbackground": true,
            "ticks": "",
            "zerolinecolor": "white"
           },
           "zaxis": {
            "backgroundcolor": "#E5ECF6",
            "gridcolor": "white",
            "gridwidth": 2,
            "linecolor": "white",
            "showbackground": true,
            "ticks": "",
            "zerolinecolor": "white"
           }
          },
          "shapedefaults": {
           "line": {
            "color": "#2a3f5f"
           }
          },
          "ternary": {
           "aaxis": {
            "gridcolor": "white",
            "linecolor": "white",
            "ticks": ""
           },
           "baxis": {
            "gridcolor": "white",
            "linecolor": "white",
            "ticks": ""
           },
           "bgcolor": "#E5ECF6",
           "caxis": {
            "gridcolor": "white",
            "linecolor": "white",
            "ticks": ""
           }
          },
          "title": {
           "x": 0.05
          },
          "xaxis": {
           "automargin": true,
           "gridcolor": "white",
           "linecolor": "white",
           "ticks": "",
           "title": {
            "standoff": 15
           },
           "zerolinecolor": "white",
           "zerolinewidth": 2
          },
          "yaxis": {
           "automargin": true,
           "gridcolor": "white",
           "linecolor": "white",
           "ticks": "",
           "title": {
            "standoff": 15
           },
           "zerolinecolor": "white",
           "zerolinewidth": 2
          }
         }
        },
        "title": {
         "text": "Accuracy and Validation Accuracy by Epoch"
        },
        "xaxis": {
         "title": {
          "text": "epochs"
         }
        },
        "yaxis": {
         "range": [
          0,
          1
         ],
         "title": {
          "text": ""
         }
        }
       }
      }
     },
     "metadata": {},
     "output_type": "display_data"
    }
   ],
   "source": [
    "# Plot the accuracy and validation accuracy\n",
    "fig = go.Figure(data=[\n",
    "                      go.Scatter(\n",
    "                          y=history.history[\"accuracy\"],\n",
    "                          name=\"accuracy\",\n",
    "                          mode=\"lines\",),\n",
    "                      go.Scatter(\n",
    "                          y=history.history[\"val_accuracy\"],\n",
    "                          name=\"val_accuracy\",\n",
    "                          mode=\"lines\")\n",
    "])\n",
    "\n",
    "fig.update_layout(\n",
    "    title='Accuracy and Validation Accuracy by Epoch',\n",
    "    xaxis_title='epochs',\n",
    "    yaxis_title='',\n",
    "    yaxis=dict(range=[0, 1])\n",
    "\n",
    ")\n",
    "fig.show()"
   ]
  },
  {
   "cell_type": "code",
   "execution_count": 13,
   "metadata": {},
   "outputs": [
    {
     "name": "stdout",
     "output_type": "stream",
     "text": [
      "\u001b[32mNOT A DISASTER:    \u001b[0m \u001b[35mcat sick\u001b[0m has \u001b[33m25.25\u001b[0m\u001b[33m %\u001b[0m chance of being a disaster.\n",
      "\u001b[32mNOT A DISASTER:    \u001b[0m \u001b[35mrabbit sick\u001b[0m has \u001b[33m36.47\u001b[0m\u001b[33m %\u001b[0m chance of being a disaster.\n",
      "\u001b[31mDISASTER:          \u001b[0m \u001b[35ma country fire nuclear bomb\u001b[0m has \u001b[33m95.34\u001b[0m\u001b[33m %\u001b[0m chance of being a disaster.\n",
      "\u001b[31mDISASTER:          \u001b[0m \u001b[35mvolcano eruption kill family earthquake volcano\u001b[0m has \u001b[33m99.01\u001b[0m\u001b[33m %\u001b[0m chance of being a disaster.\n",
      "\u001b[32mNOT A DISASTER:    \u001b[0m \u001b[35mpick artist garbage man switch name\u001b[0m has \u001b[33m14.99\u001b[0m\u001b[33m %\u001b[0m chance of being a disaster.\n",
      "\u001b[32mNOT A DISASTER:    \u001b[0m \u001b[35mI take girl starbuck I forget\u001b[0m has \u001b[33m10.91\u001b[0m\u001b[33m %\u001b[0m chance of being a disaster.\n",
      "\u001b[31mDISASTER:          \u001b[0m \u001b[35mthree people die heat wave\u001b[0m has \u001b[33m94.7\u001b[0m\u001b[33m %\u001b[0m chance of being a disaster.\n",
      "\u001b[32mNOT A DISASTER:    \u001b[0m \u001b[35msomeone eat dog\u001b[0m has \u001b[33m8.97\u001b[0m\u001b[33m %\u001b[0m chance of being a disaster.\n",
      "\u001b[31mDISASTER:          \u001b[0m \u001b[35mstrong possibility typhoon texas\u001b[0m has \u001b[33m82.06\u001b[0m\u001b[33m %\u001b[0m chance of being a disaster.\n",
      "\u001b[31mDISASTER:          \u001b[0m \u001b[35ma plane crash eiffel tower paris one casualty\u001b[0m has \u001b[33m81.08\u001b[0m\u001b[33m %\u001b[0m chance of being a disaster.\n",
      "\u001b[32mNOT A DISASTER:    \u001b[0m \u001b[35mlook at the sky last night it be ablaze\u001b[0m has \u001b[33m10.8\u001b[0m\u001b[33m %\u001b[0m chance of being a disaster.\n",
      "\u001b[32mNOT A DISASTER:    \u001b[0m \u001b[35mthe titanic sank\u001b[0m has \u001b[33m37.43\u001b[0m\u001b[33m %\u001b[0m chance of being a disaster.\n",
      "\u001b[31mDISASTER:          \u001b[0m \u001b[35mdamage school bus multi car crash\u001b[0m has \u001b[33m94.46\u001b[0m\u001b[33m %\u001b[0m chance of being a disaster.\n",
      "\u001b[32mNOT A DISASTER:    \u001b[0m \u001b[35mI like travel moon\u001b[0m has \u001b[33m5.65\u001b[0m\u001b[33m %\u001b[0m chance of being a disaster.\n",
      "\u001b[32mNOT A DISASTER:    \u001b[0m \u001b[35mI see fall star\u001b[0m has \u001b[33m12.51\u001b[0m\u001b[33m %\u001b[0m chance of being a disaster.\n",
      "\u001b[31mDISASTER:          \u001b[0m \u001b[35mvolcano sicilia asleep\u001b[0m has \u001b[33m50.46\u001b[0m\u001b[33m %\u001b[0m chance of being a disaster.\n",
      "\u001b[32mNOT A DISASTER:    \u001b[0m \u001b[35msnow winter\u001b[0m has \u001b[33m36.21\u001b[0m\u001b[33m %\u001b[0m chance of being a disaster.\n",
      "\u001b[32mNOT A DISASTER:    \u001b[0m \u001b[35msnow risk avalanche\u001b[0m has \u001b[33m42.53\u001b[0m\u001b[33m %\u001b[0m chance of being a disaster.\n",
      "\u001b[32mNOT A DISASTER:    \u001b[0m \u001b[35mzelda princess kidnap evil ganon\u001b[0m has \u001b[33m36.49\u001b[0m\u001b[33m %\u001b[0m chance of being a disaster.\n",
      "\u001b[32mNOT A DISASTER:    \u001b[0m \u001b[35mI great fan movie the lion king\u001b[0m has \u001b[33m4.97\u001b[0m\u001b[33m %\u001b[0m chance of being a disaster.\n",
      "\u001b[32mNOT A DISASTER:    \u001b[0m \u001b[35mmortal kombat great fatality\u001b[0m has \u001b[33m5.0\u001b[0m\u001b[33m %\u001b[0m chance of being a disaster.\n"
     ]
    }
   ],
   "source": [
    "model = tf.keras.models.load_model(\"model/disaster_analysis.h5\")\n",
    "\n",
    "# Create list of custom strings to predict\n",
    "custom_tweet = [\n",
    "    \"my cat is sick\",\n",
    "    \"my rabbit is sick\",\n",
    "    \"A country fired a nuclear bomb\",\n",
    "    \"a volcano eruption killed my family not only because of the earthquake but also because of the volcano itself.\",\n",
    "    \"Pick up artists and garbage men should switch names.\",\n",
    "    \"I once took a girl to Starbucks because I forgot her name\",\n",
    "    \"Three people died from the heat wave\",\n",
    "    \"Someone ate my dog\",\n",
    "    \"Strong possibility of typhoon in Texas\",\n",
    "    \"A plane crashed on the Eiffel Tower in Paris. One hundred casualties\",\n",
    "    \"LOOK AT THE SKY LAST NIGHT IT WAS ABLAZE\",\n",
    "    \"The titanic sank\",\n",
    "    \"Damage to school bus on 80 in multi car crash\",\n",
    "    \"I would like to travel to the moon\",\n",
    "    \"I saw a falling star\",\n",
    "    \"the volcano in sicilia is asleep\",\n",
    "    \"it is snowing because it is winter\",\n",
    "    \"it snows so much there is a risk of avalanche\",\n",
    "    \"Zelda is a princess and she has been kidnapped by the evil Ganon\",\n",
    "    \"I am a great fan of the movie The Lion King\",\n",
    "    \"Mortal Kombat has great fatalities\"\n",
    "]\n",
    "\n",
    "for i in custom_tweet:\n",
    "    i = clean_text(i)\n",
    "    \n",
    "    tokenized = tokenizer.texts_to_sequences([i])\n",
    "    reviews_pad_test = pad_sequences(tokenized, maxlen=28)\n",
    "\n",
    "    # Predict the sentiment of the custom string\n",
    "    new_review_prediction = round(model.predict(np.array(reviews_pad_test))[0][0])\n",
    "    sentiment = colored(\"NOT A DISASTER:    \", \"green\") if new_review_prediction == 0 else colored(\"DISASTER:          \", \"red\")\n",
    "    i = colored(i, 'magenta')\n",
    "    percent = round((model.predict(np.array(reviews_pad_test))[0][0])*100, 2)\n",
    "    percent = colored(str(percent), 'yellow') + colored(\" %\", 'yellow')\n",
    "\n",
    "    # Display the prediction\n",
    "    print (f\"{sentiment} {i} has {percent} chance of being a disaster.\")"
   ]
  },
  {
   "cell_type": "code",
   "execution_count": 14,
   "metadata": {},
   "outputs": [
    {
     "data": {
      "text/html": [
       "<div>\n",
       "<style scoped>\n",
       "    .dataframe tbody tr th:only-of-type {\n",
       "        vertical-align: middle;\n",
       "    }\n",
       "\n",
       "    .dataframe tbody tr th {\n",
       "        vertical-align: top;\n",
       "    }\n",
       "\n",
       "    .dataframe thead th {\n",
       "        text-align: right;\n",
       "    }\n",
       "</style>\n",
       "<table border=\"1\" class=\"dataframe\">\n",
       "  <thead>\n",
       "    <tr style=\"text-align: right;\">\n",
       "      <th></th>\n",
       "      <th>id</th>\n",
       "      <th>keyword</th>\n",
       "      <th>location</th>\n",
       "      <th>text</th>\n",
       "      <th>text_clean</th>\n",
       "      <th>target</th>\n",
       "    </tr>\n",
       "  </thead>\n",
       "  <tbody>\n",
       "    <tr>\n",
       "      <th>0</th>\n",
       "      <td>0</td>\n",
       "      <td>NaN</td>\n",
       "      <td>NaN</td>\n",
       "      <td>Just happened a terrible car crash</td>\n",
       "      <td>just happen terrible car crash</td>\n",
       "      <td>1</td>\n",
       "    </tr>\n",
       "    <tr>\n",
       "      <th>1</th>\n",
       "      <td>2</td>\n",
       "      <td>NaN</td>\n",
       "      <td>NaN</td>\n",
       "      <td>Heard about #earthquake is different cities, s...</td>\n",
       "      <td>hear earthquake different city stay safe</td>\n",
       "      <td>1</td>\n",
       "    </tr>\n",
       "    <tr>\n",
       "      <th>2</th>\n",
       "      <td>3</td>\n",
       "      <td>NaN</td>\n",
       "      <td>NaN</td>\n",
       "      <td>there is a forest fire at spot pond, geese are...</td>\n",
       "      <td>forest fire spot pond geese flee street I save</td>\n",
       "      <td>1</td>\n",
       "    </tr>\n",
       "    <tr>\n",
       "      <th>3</th>\n",
       "      <td>9</td>\n",
       "      <td>NaN</td>\n",
       "      <td>NaN</td>\n",
       "      <td>Apocalypse lighting. #Spokane #wildfires</td>\n",
       "      <td>apocalypse light spokane wildfire</td>\n",
       "      <td>1</td>\n",
       "    </tr>\n",
       "    <tr>\n",
       "      <th>4</th>\n",
       "      <td>11</td>\n",
       "      <td>NaN</td>\n",
       "      <td>NaN</td>\n",
       "      <td>Typhoon Soudelor kills 28 in China and Taiwan</td>\n",
       "      <td>typhoon soudelor kill china taiwan</td>\n",
       "      <td>1</td>\n",
       "    </tr>\n",
       "    <tr>\n",
       "      <th>...</th>\n",
       "      <td>...</td>\n",
       "      <td>...</td>\n",
       "      <td>...</td>\n",
       "      <td>...</td>\n",
       "      <td>...</td>\n",
       "      <td>...</td>\n",
       "    </tr>\n",
       "    <tr>\n",
       "      <th>3258</th>\n",
       "      <td>10861</td>\n",
       "      <td>NaN</td>\n",
       "      <td>NaN</td>\n",
       "      <td>EARTHQUAKE SAFETY LOS ANGELES ÛÒ SAFETY FASTE...</td>\n",
       "      <td>earthquake safety los angeles ûò safety fasten...</td>\n",
       "      <td>1</td>\n",
       "    </tr>\n",
       "    <tr>\n",
       "      <th>3259</th>\n",
       "      <td>10865</td>\n",
       "      <td>NaN</td>\n",
       "      <td>NaN</td>\n",
       "      <td>Storm in RI worse than last hurricane. My city...</td>\n",
       "      <td>storm ri bad hurricane my cityampother hard hi...</td>\n",
       "      <td>1</td>\n",
       "    </tr>\n",
       "    <tr>\n",
       "      <th>3260</th>\n",
       "      <td>10868</td>\n",
       "      <td>NaN</td>\n",
       "      <td>NaN</td>\n",
       "      <td>Green Line derailment in Chicago http://t.co/U...</td>\n",
       "      <td>green line derailment chicago</td>\n",
       "      <td>1</td>\n",
       "    </tr>\n",
       "    <tr>\n",
       "      <th>3261</th>\n",
       "      <td>10874</td>\n",
       "      <td>NaN</td>\n",
       "      <td>NaN</td>\n",
       "      <td>MEG issues Hazardous Weather Outlook (HWO) htt...</td>\n",
       "      <td>meg issue hazardous weather outlook hwo</td>\n",
       "      <td>1</td>\n",
       "    </tr>\n",
       "    <tr>\n",
       "      <th>3262</th>\n",
       "      <td>10875</td>\n",
       "      <td>NaN</td>\n",
       "      <td>NaN</td>\n",
       "      <td>#CityofCalgary has activated its Municipal Eme...</td>\n",
       "      <td>cityofcalgary activate municipal emergency pla...</td>\n",
       "      <td>1</td>\n",
       "    </tr>\n",
       "  </tbody>\n",
       "</table>\n",
       "<p>3263 rows × 6 columns</p>\n",
       "</div>"
      ],
      "text/plain": [
       "         id keyword location  \\\n",
       "0         0     NaN      NaN   \n",
       "1         2     NaN      NaN   \n",
       "2         3     NaN      NaN   \n",
       "3         9     NaN      NaN   \n",
       "4        11     NaN      NaN   \n",
       "...     ...     ...      ...   \n",
       "3258  10861     NaN      NaN   \n",
       "3259  10865     NaN      NaN   \n",
       "3260  10868     NaN      NaN   \n",
       "3261  10874     NaN      NaN   \n",
       "3262  10875     NaN      NaN   \n",
       "\n",
       "                                                   text  \\\n",
       "0                    Just happened a terrible car crash   \n",
       "1     Heard about #earthquake is different cities, s...   \n",
       "2     there is a forest fire at spot pond, geese are...   \n",
       "3              Apocalypse lighting. #Spokane #wildfires   \n",
       "4         Typhoon Soudelor kills 28 in China and Taiwan   \n",
       "...                                                 ...   \n",
       "3258  EARTHQUAKE SAFETY LOS ANGELES ÛÒ SAFETY FASTE...   \n",
       "3259  Storm in RI worse than last hurricane. My city...   \n",
       "3260  Green Line derailment in Chicago http://t.co/U...   \n",
       "3261  MEG issues Hazardous Weather Outlook (HWO) htt...   \n",
       "3262  #CityofCalgary has activated its Municipal Eme...   \n",
       "\n",
       "                                             text_clean  target  \n",
       "0                        just happen terrible car crash       1  \n",
       "1              hear earthquake different city stay safe       1  \n",
       "2        forest fire spot pond geese flee street I save       1  \n",
       "3                     apocalypse light spokane wildfire       1  \n",
       "4                    typhoon soudelor kill china taiwan       1  \n",
       "...                                                 ...     ...  \n",
       "3258  earthquake safety los angeles ûò safety fasten...       1  \n",
       "3259  storm ri bad hurricane my cityampother hard hi...       1  \n",
       "3260                      green line derailment chicago       1  \n",
       "3261            meg issue hazardous weather outlook hwo       1  \n",
       "3262  cityofcalgary activate municipal emergency pla...       1  \n",
       "\n",
       "[3263 rows x 6 columns]"
      ]
     },
     "execution_count": 14,
     "metadata": {},
     "output_type": "execute_result"
    }
   ],
   "source": [
    "# Create a function to make prediction\n",
    "def predict_sentiment(text):\n",
    "    tokenized = tokenizer.texts_to_sequences([text])\n",
    "    reviews_pad_test = pad_sequences(tokenized, maxlen=28)\n",
    "    return round(model.predict(np.array(reviews_pad_test))[0][0])\n",
    "\n",
    "# Prediction on test_tweet for submission\n",
    "test_tweet[\"target\"] = test_tweet[\"text_clean\"].apply(predict_sentiment)\n",
    "test_tweet"
   ]
  },
  {
   "cell_type": "code",
   "execution_count": 15,
   "metadata": {},
   "outputs": [
    {
     "data": {
      "text/plain": [
       "0    62.519154\n",
       "1    37.480846\n",
       "Name: target, dtype: float64"
      ]
     },
     "execution_count": 15,
     "metadata": {},
     "output_type": "execute_result"
    }
   ],
   "source": [
    "# Check percentage of disaster in test_tweet (0 = not disaster, 1 = disaster)\n",
    "test_tweet[\"target\"].value_counts(normalize=True)*100"
   ]
  },
  {
   "cell_type": "code",
   "execution_count": 16,
   "metadata": {},
   "outputs": [
    {
     "name": "stdout",
     "output_type": "stream",
     "text": [
      "\u001b[31mjust happen terrible car crash\u001b[0m \u001b[33m1\u001b[0m\n",
      "\u001b[31mhear earthquake different city stay safe\u001b[0m \u001b[33m1\u001b[0m\n",
      "\u001b[31mforest fire spot pond geese flee street I save\u001b[0m \u001b[33m1\u001b[0m\n",
      "\u001b[31mapocalypse light spokane wildfire\u001b[0m \u001b[33m1\u001b[0m\n",
      "\u001b[31mtyphoon soudelor kill china taiwan\u001b[0m \u001b[33m1\u001b[0m\n",
      "\u001b[31mbe shakingit earthquake\u001b[0m \u001b[33m1\u001b[0m\n",
      "\u001b[31mthey d probably life arsenal yesterday eh eh\u001b[0m \u001b[33m0\u001b[0m\n",
      "\u001b[31mhey how\u001b[0m \u001b[33m0\u001b[0m\n",
      "\u001b[31mwhat nice hat\u001b[0m \u001b[33m0\u001b[0m\n",
      "\u001b[31mfuck\u001b[0m \u001b[33m0\u001b[0m\n",
      "\u001b[31mno I do not like cold\u001b[0m \u001b[33m0\u001b[0m\n",
      "\u001b[31mnooooooooo do not\u001b[0m \u001b[33m0\u001b[0m\n",
      "\u001b[31mno do not tell\u001b[0m \u001b[33m0\u001b[0m\n",
      "\u001b[31mwhat\u001b[0m \u001b[33m0\u001b[0m\n",
      "\u001b[31mawesome\u001b[0m \u001b[33m0\u001b[0m\n",
      "\u001b[31mbirmingham wholesale market ablaze bbc news fire break birmingham wholesale market\u001b[0m \u001b[33m1\u001b[0m\n",
      "\u001b[31msunkxssedharry wear short race ablaze\u001b[0m \u001b[33m0\u001b[0m\n",
      "\u001b[31mpreviouslyondoyintv toke makinwaûs marriage crisis set nigerian twitter ablaze\u001b[0m \u001b[33m1\u001b[0m\n",
      "\u001b[31mcheck nsfw\u001b[0m \u001b[33m0\u001b[0m\n",
      "\u001b[31mpsa iûm splitting personality techie follow ablazeco burner follow ablaze\u001b[0m \u001b[33m0\u001b[0m\n",
      "\u001b[31mbeware world ablaze sierra leone amp guap\u001b[0m \u001b[33m0\u001b[0m\n",
      "\u001b[31mburn man ablaze turban diva etsy\u001b[0m \u001b[33m0\u001b[0m\n",
      "\u001b[31mnot diss song people thing run smh eye opener he set game ablaze cyhitheprynce\u001b[0m \u001b[33m0\u001b[0m\n",
      "\u001b[31mrape victim die set ablaze a yearold girl die burn injury set ablazeû\u001b[0m \u001b[33m1\u001b[0m\n",
      "\u001b[31mset myself ablaze\u001b[0m \u001b[33m0\u001b[0m\n"
     ]
    }
   ],
   "source": [
    "check_tweet = test_tweet.head(25)\n",
    "\n",
    "for i, p in zip(check_tweet[\"text_clean\"], check_tweet[\"target\"]):\n",
    "    p = colored(p, 'yellow')\n",
    "    i = colored(i, 'red')\n",
    "    print(i, p)"
   ]
  },
  {
   "cell_type": "code",
   "execution_count": 17,
   "metadata": {},
   "outputs": [],
   "source": [
    "# Create a submission file for Kaggle\n",
    "submission = test_tweet[[\"id\", \"target\"]]\n",
    "\n",
    "# Save the submission file\n",
    "submission.to_csv(\"submission.csv\", index=False, header=True)"
   ]
  },
  {
   "cell_type": "markdown",
   "metadata": {},
   "source": [
    "##### Result : F1-Score on Kaggle (Actual ranking: 328 on 914)\n",
    "\n",
    "![alt text](result.png \"F1-Score\")"
   ]
  }
 ],
 "metadata": {
  "interpreter": {
   "hash": "5a55ff060dca2f919002028c6c65853c885111584988b328db325f9c1cd9b339"
  },
  "kernelspec": {
   "display_name": "Python 3.8.12 ('base')",
   "language": "python",
   "name": "python3"
  },
  "language_info": {
   "codemirror_mode": {
    "name": "ipython",
    "version": 3
   },
   "file_extension": ".py",
   "mimetype": "text/x-python",
   "name": "python",
   "nbconvert_exporter": "python",
   "pygments_lexer": "ipython3",
   "version": "3.8.12"
  },
  "orig_nbformat": 4
 },
 "nbformat": 4,
 "nbformat_minor": 2
}
